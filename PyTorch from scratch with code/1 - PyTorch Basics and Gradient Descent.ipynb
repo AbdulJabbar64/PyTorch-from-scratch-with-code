{
 "cells": [
  {
   "cell_type": "code",
   "execution_count": 5,
   "id": "02abebe5",
   "metadata": {},
   "outputs": [],
   "source": [
    "import torch.nn as nn\n",
    "import numpy as np\n",
    "import torch"
   ]
  },
  {
   "cell_type": "code",
   "execution_count": 6,
   "id": "b979c120",
   "metadata": {},
   "outputs": [],
   "source": [
    "# Input (temp, rainfall, humidity)\n",
    "inputs = np.array([[73, 67, 43], \n",
    "                   [91, 88, 64], \n",
    "                   [87, 134, 58], \n",
    "                   [102, 43, 37], \n",
    "                   [69, 96, 70], \n",
    "                   [74, 66, 43], \n",
    "                   [91, 87, 65], \n",
    "                   [88, 134, 59], \n",
    "                   [101, 44, 37], \n",
    "                   [68, 96, 71], \n",
    "                   [73, 66, 44], \n",
    "                   [92, 87, 64], \n",
    "                   [87, 135, 57], \n",
    "                   [103, 43, 36], \n",
    "                   [68, 97, 70]], \n",
    "                  dtype='float32')\n",
    "\n",
    "# Targets (apples, oranges)\n",
    "targets = np.array([[56, 70], \n",
    "                    [81, 101], \n",
    "                    [119, 133], \n",
    "                    [22, 37], \n",
    "                    [103, 119],\n",
    "                    [57, 69], \n",
    "                    [80, 102], \n",
    "                    [118, 132], \n",
    "                    [21, 38], \n",
    "                    [104, 118], \n",
    "                    [57, 69], \n",
    "                    [82, 100], \n",
    "                    [118, 134], \n",
    "                    [20, 38], \n",
    "                    [102, 120]], \n",
    "                   dtype='float32')\n",
    "\n",
    "inputs = torch.from_numpy(inputs)\n",
    "targets = torch.from_numpy(targets)"
   ]
  },
  {
   "cell_type": "code",
   "execution_count": 7,
   "id": "7ac3bbe8",
   "metadata": {
    "scrolled": true
   },
   "outputs": [
    {
     "data": {
      "text/plain": [
       "tensor([[ 73.,  67.,  43.],\n",
       "        [ 91.,  88.,  64.],\n",
       "        [ 87., 134.,  58.],\n",
       "        [102.,  43.,  37.],\n",
       "        [ 69.,  96.,  70.],\n",
       "        [ 74.,  66.,  43.],\n",
       "        [ 91.,  87.,  65.],\n",
       "        [ 88., 134.,  59.],\n",
       "        [101.,  44.,  37.],\n",
       "        [ 68.,  96.,  71.],\n",
       "        [ 73.,  66.,  44.],\n",
       "        [ 92.,  87.,  64.],\n",
       "        [ 87., 135.,  57.],\n",
       "        [103.,  43.,  36.],\n",
       "        [ 68.,  97.,  70.]])"
      ]
     },
     "execution_count": 7,
     "metadata": {},
     "output_type": "execute_result"
    }
   ],
   "source": [
    "inputs"
   ]
  },
  {
   "cell_type": "code",
   "execution_count": 8,
   "id": "2adfbcb5",
   "metadata": {},
   "outputs": [
    {
     "data": {
      "text/plain": [
       "tensor([[ 56.,  70.],\n",
       "        [ 81., 101.],\n",
       "        [119., 133.],\n",
       "        [ 22.,  37.],\n",
       "        [103., 119.],\n",
       "        [ 57.,  69.],\n",
       "        [ 80., 102.],\n",
       "        [118., 132.],\n",
       "        [ 21.,  38.],\n",
       "        [104., 118.],\n",
       "        [ 57.,  69.],\n",
       "        [ 82., 100.],\n",
       "        [118., 134.],\n",
       "        [ 20.,  38.],\n",
       "        [102., 120.]])"
      ]
     },
     "execution_count": 8,
     "metadata": {},
     "output_type": "execute_result"
    }
   ],
   "source": [
    "targets"
   ]
  },
  {
   "cell_type": "code",
   "execution_count": 9,
   "id": "2420eedf",
   "metadata": {},
   "outputs": [],
   "source": [
    "from torch.utils.data import TensorDataset"
   ]
  },
  {
   "cell_type": "code",
   "execution_count": 10,
   "id": "6d4cb733",
   "metadata": {},
   "outputs": [
    {
     "data": {
      "text/plain": [
       "(tensor([[ 73.,  67.,  43.],\n",
       "         [ 91.,  88.,  64.],\n",
       "         [ 87., 134.,  58.]]),\n",
       " tensor([[ 56.,  70.],\n",
       "         [ 81., 101.],\n",
       "         [119., 133.]]))"
      ]
     },
     "execution_count": 10,
     "metadata": {},
     "output_type": "execute_result"
    }
   ],
   "source": [
    "# Define dataset\n",
    "train_ds = TensorDataset(inputs, targets)\n",
    "train_ds[0:3]"
   ]
  },
  {
   "cell_type": "code",
   "execution_count": 11,
   "id": "d8d8aee0",
   "metadata": {},
   "outputs": [],
   "source": [
    "from torch.utils.data import DataLoader"
   ]
  },
  {
   "cell_type": "code",
   "execution_count": 12,
   "id": "2c23b644",
   "metadata": {},
   "outputs": [],
   "source": [
    "# Define data loader\n",
    "batch_size = 5\n",
    "train_dl = DataLoader(train_ds, batch_size, shuffle=True)"
   ]
  },
  {
   "cell_type": "code",
   "execution_count": 13,
   "id": "c1400046",
   "metadata": {},
   "outputs": [
    {
     "name": "stdout",
     "output_type": "stream",
     "text": [
      "tensor([[ 68.,  96.,  71.],\n",
      "        [ 73.,  67.,  43.],\n",
      "        [ 87., 135.,  57.],\n",
      "        [103.,  43.,  36.],\n",
      "        [102.,  43.,  37.]])\n",
      "tensor([[104., 118.],\n",
      "        [ 56.,  70.],\n",
      "        [118., 134.],\n",
      "        [ 20.,  38.],\n",
      "        [ 22.,  37.]])\n"
     ]
    }
   ],
   "source": [
    "for xb, yb in train_dl:\n",
    "    print(xb)\n",
    "    print(yb)\n",
    "    break"
   ]
  },
  {
   "cell_type": "code",
   "execution_count": 14,
   "id": "93662bec",
   "metadata": {},
   "outputs": [
    {
     "name": "stdout",
     "output_type": "stream",
     "text": [
      "Parameter containing:\n",
      "tensor([[ 0.1588, -0.0566,  0.3976],\n",
      "        [-0.1725, -0.1435, -0.1389]], requires_grad=True)\n",
      "Parameter containing:\n",
      "tensor([ 0.0079, -0.2005], requires_grad=True)\n"
     ]
    }
   ],
   "source": [
    "# Define model\n",
    "model = nn.Linear(3, 2)\n",
    "print(model.weight)\n",
    "print(model.bias)"
   ]
  },
  {
   "cell_type": "code",
   "execution_count": 15,
   "id": "f990a9f0",
   "metadata": {},
   "outputs": [
    {
     "data": {
      "text/plain": [
       "[Parameter containing:\n",
       " tensor([[ 0.1588, -0.0566,  0.3976],\n",
       "         [-0.1725, -0.1435, -0.1389]], requires_grad=True),\n",
       " Parameter containing:\n",
       " tensor([ 0.0079, -0.2005], requires_grad=True)]"
      ]
     },
     "execution_count": 15,
     "metadata": {},
     "output_type": "execute_result"
    }
   ],
   "source": [
    "# Parameters\n",
    "list(model.parameters())"
   ]
  },
  {
   "cell_type": "code",
   "execution_count": 16,
   "id": "1f471c48",
   "metadata": {},
   "outputs": [
    {
     "data": {
      "text/plain": [
       "tensor([[ 24.9059, -28.3812],\n",
       "        [ 34.9255, -37.4171],\n",
       "        [ 29.3015, -42.4960],\n",
       "        [ 28.4841, -29.1050],\n",
       "        [ 33.3646, -35.6043],\n",
       "        [ 25.1213, -28.4102],\n",
       "        [ 35.3797, -37.4125],\n",
       "        [ 29.8579, -42.8074],\n",
       "        [ 28.2687, -29.0761],\n",
       "        [ 33.6033, -35.5707],\n",
       "        [ 25.3601, -28.3766],\n",
       "        [ 35.1409, -37.4461],\n",
       "        [ 28.8473, -42.5006],\n",
       "        [ 28.2453, -29.1386],\n",
       "        [ 33.1492, -35.5753]], grad_fn=<AddmmBackward0>)"
      ]
     },
     "execution_count": 16,
     "metadata": {},
     "output_type": "execute_result"
    }
   ],
   "source": [
    "# Generate predictions\n",
    "preds = model(inputs)\n",
    "preds"
   ]
  },
  {
   "cell_type": "code",
   "execution_count": 17,
   "id": "2e482771",
   "metadata": {},
   "outputs": [],
   "source": [
    "# Import nn.functional\n",
    "import torch.nn.functional as F"
   ]
  },
  {
   "cell_type": "code",
   "execution_count": 18,
   "id": "00c085a9",
   "metadata": {},
   "outputs": [],
   "source": [
    "# Define loss function\n",
    "loss_fn = F.mse_loss"
   ]
  },
  {
   "cell_type": "code",
   "execution_count": 19,
   "id": "050c3099",
   "metadata": {},
   "outputs": [
    {
     "name": "stdout",
     "output_type": "stream",
     "text": [
      "tensor(10382.5654, grad_fn=<MseLossBackward0>)\n"
     ]
    }
   ],
   "source": [
    "loss = loss_fn(model(inputs), targets)\n",
    "print(loss)"
   ]
  },
  {
   "cell_type": "code",
   "execution_count": 20,
   "id": "576d119b",
   "metadata": {},
   "outputs": [],
   "source": [
    "# Define optimizer\n",
    "opt = torch.optim.SGD(model.parameters(), lr=1e-5)"
   ]
  },
  {
   "cell_type": "code",
   "execution_count": 21,
   "id": "9d68a470",
   "metadata": {},
   "outputs": [],
   "source": [
    "# Utility function to train the model\n",
    "def fit(num_epochs, model, loss_fn, opt, train_dl):\n",
    "    \n",
    "    # Repeat for given number of epochs\n",
    "    for epoch in range(num_epochs):\n",
    "        \n",
    "        # Train with batches of data\n",
    "        for xb,yb in train_dl:\n",
    "            \n",
    "            # 1. Generate predictions\n",
    "            pred = model(xb)\n",
    "            \n",
    "            # 2. Calculate loss\n",
    "            loss = loss_fn(pred, yb)\n",
    "            \n",
    "            # 3. Compute gradients\n",
    "            loss.backward()\n",
    "            \n",
    "            # 4. Update parameters using gradients\n",
    "            opt.step()\n",
    "            \n",
    "            # 5. Reset the gradients to zero\n",
    "            opt.zero_grad()\n",
    "        \n",
    "        # Print the progress\n",
    "        if (epoch+1) % 10 == 0:\n",
    "            print('Epoch [{}/{}], Loss: {:.4f}'.format(epoch+1, num_epochs, loss.item()))"
   ]
  },
  {
   "cell_type": "code",
   "execution_count": 23,
   "id": "620b106d",
   "metadata": {},
   "outputs": [
    {
     "name": "stdout",
     "output_type": "stream",
     "text": [
      "Epoch [10/1000], Loss: 16.0938\n",
      "Epoch [20/1000], Loss: 13.1652\n",
      "Epoch [30/1000], Loss: 8.7576\n",
      "Epoch [40/1000], Loss: 13.0108\n",
      "Epoch [50/1000], Loss: 10.2177\n",
      "Epoch [60/1000], Loss: 10.4359\n",
      "Epoch [70/1000], Loss: 12.5355\n",
      "Epoch [80/1000], Loss: 6.0228\n",
      "Epoch [90/1000], Loss: 11.5936\n",
      "Epoch [100/1000], Loss: 5.4597\n",
      "Epoch [110/1000], Loss: 9.7061\n",
      "Epoch [120/1000], Loss: 4.0026\n",
      "Epoch [130/1000], Loss: 5.2055\n",
      "Epoch [140/1000], Loss: 8.8435\n",
      "Epoch [150/1000], Loss: 5.7698\n",
      "Epoch [160/1000], Loss: 3.4440\n",
      "Epoch [170/1000], Loss: 2.0622\n",
      "Epoch [180/1000], Loss: 4.5339\n",
      "Epoch [190/1000], Loss: 5.2077\n",
      "Epoch [200/1000], Loss: 3.6898\n",
      "Epoch [210/1000], Loss: 3.1237\n",
      "Epoch [220/1000], Loss: 2.6638\n",
      "Epoch [230/1000], Loss: 2.3849\n",
      "Epoch [240/1000], Loss: 2.5804\n",
      "Epoch [250/1000], Loss: 3.4439\n",
      "Epoch [260/1000], Loss: 3.9200\n",
      "Epoch [270/1000], Loss: 2.5620\n",
      "Epoch [280/1000], Loss: 4.3948\n",
      "Epoch [290/1000], Loss: 2.9881\n",
      "Epoch [300/1000], Loss: 1.8276\n",
      "Epoch [310/1000], Loss: 1.2157\n",
      "Epoch [320/1000], Loss: 3.3610\n",
      "Epoch [330/1000], Loss: 2.1406\n",
      "Epoch [340/1000], Loss: 3.2069\n",
      "Epoch [350/1000], Loss: 1.6403\n",
      "Epoch [360/1000], Loss: 3.4563\n",
      "Epoch [370/1000], Loss: 2.2490\n",
      "Epoch [380/1000], Loss: 2.0020\n",
      "Epoch [390/1000], Loss: 2.6389\n",
      "Epoch [400/1000], Loss: 3.2162\n",
      "Epoch [410/1000], Loss: 1.0853\n",
      "Epoch [420/1000], Loss: 1.7263\n",
      "Epoch [430/1000], Loss: 1.7979\n",
      "Epoch [440/1000], Loss: 1.7144\n",
      "Epoch [450/1000], Loss: 1.4803\n",
      "Epoch [460/1000], Loss: 1.1279\n",
      "Epoch [470/1000], Loss: 1.7729\n",
      "Epoch [480/1000], Loss: 2.5141\n",
      "Epoch [490/1000], Loss: 2.0495\n",
      "Epoch [500/1000], Loss: 1.3773\n",
      "Epoch [510/1000], Loss: 2.0358\n",
      "Epoch [520/1000], Loss: 1.6721\n",
      "Epoch [530/1000], Loss: 1.9757\n",
      "Epoch [540/1000], Loss: 2.2732\n",
      "Epoch [550/1000], Loss: 1.2843\n",
      "Epoch [560/1000], Loss: 1.8585\n",
      "Epoch [570/1000], Loss: 1.8686\n",
      "Epoch [580/1000], Loss: 1.3646\n",
      "Epoch [590/1000], Loss: 2.0474\n",
      "Epoch [600/1000], Loss: 0.9673\n",
      "Epoch [610/1000], Loss: 1.4951\n",
      "Epoch [620/1000], Loss: 1.9537\n",
      "Epoch [630/1000], Loss: 1.2817\n",
      "Epoch [640/1000], Loss: 1.4780\n",
      "Epoch [650/1000], Loss: 0.9669\n",
      "Epoch [660/1000], Loss: 1.7731\n",
      "Epoch [670/1000], Loss: 1.0119\n",
      "Epoch [680/1000], Loss: 1.5202\n",
      "Epoch [690/1000], Loss: 1.4087\n",
      "Epoch [700/1000], Loss: 1.6641\n",
      "Epoch [710/1000], Loss: 0.6504\n",
      "Epoch [720/1000], Loss: 1.1079\n",
      "Epoch [730/1000], Loss: 1.3239\n",
      "Epoch [740/1000], Loss: 1.3552\n",
      "Epoch [750/1000], Loss: 1.3490\n",
      "Epoch [760/1000], Loss: 1.6180\n",
      "Epoch [770/1000], Loss: 1.4177\n",
      "Epoch [780/1000], Loss: 1.0495\n",
      "Epoch [790/1000], Loss: 1.1029\n",
      "Epoch [800/1000], Loss: 0.8411\n",
      "Epoch [810/1000], Loss: 0.6480\n",
      "Epoch [820/1000], Loss: 0.7927\n",
      "Epoch [830/1000], Loss: 1.5274\n",
      "Epoch [840/1000], Loss: 1.5156\n",
      "Epoch [850/1000], Loss: 0.8013\n",
      "Epoch [860/1000], Loss: 1.1683\n",
      "Epoch [870/1000], Loss: 0.8303\n",
      "Epoch [880/1000], Loss: 1.0336\n",
      "Epoch [890/1000], Loss: 1.0386\n",
      "Epoch [900/1000], Loss: 0.7452\n",
      "Epoch [910/1000], Loss: 1.4571\n",
      "Epoch [920/1000], Loss: 1.4599\n",
      "Epoch [930/1000], Loss: 1.4737\n",
      "Epoch [940/1000], Loss: 1.2341\n",
      "Epoch [950/1000], Loss: 1.1541\n",
      "Epoch [960/1000], Loss: 0.9597\n",
      "Epoch [970/1000], Loss: 1.2497\n",
      "Epoch [980/1000], Loss: 1.3927\n",
      "Epoch [990/1000], Loss: 0.9682\n",
      "Epoch [1000/1000], Loss: 0.9851\n"
     ]
    }
   ],
   "source": [
    "fit(1000, model, loss_fn, opt, train_dl)"
   ]
  },
  {
   "cell_type": "code",
   "execution_count": 24,
   "id": "4a48502f",
   "metadata": {},
   "outputs": [
    {
     "data": {
      "text/plain": [
       "tensor([[ 56.9177,  70.3921],\n",
       "        [ 81.9731, 100.4202],\n",
       "        [118.1603, 133.1416],\n",
       "        [ 20.7920,  37.8578],\n",
       "        [101.7896, 118.1907],\n",
       "        [ 55.6710,  69.3121],\n",
       "        [ 81.8279, 100.4890],\n",
       "        [118.4532, 133.7312],\n",
       "        [ 22.0388,  38.9378],\n",
       "        [102.8911, 119.3396],\n",
       "        [ 56.7724,  70.4610],\n",
       "        [ 80.7264,  99.3401],\n",
       "        [118.3056, 133.0728],\n",
       "        [ 19.6906,  36.7089],\n",
       "        [103.0364, 119.2708]], grad_fn=<AddmmBackward0>)"
      ]
     },
     "execution_count": 24,
     "metadata": {},
     "output_type": "execute_result"
    }
   ],
   "source": [
    "preds = model(inputs)\n",
    "preds"
   ]
  },
  {
   "cell_type": "code",
   "execution_count": 25,
   "id": "69dd3e1f",
   "metadata": {},
   "outputs": [
    {
     "data": {
      "text/plain": [
       "tensor([[ 56.,  70.],\n",
       "        [ 81., 101.],\n",
       "        [119., 133.],\n",
       "        [ 22.,  37.],\n",
       "        [103., 119.],\n",
       "        [ 57.,  69.],\n",
       "        [ 80., 102.],\n",
       "        [118., 132.],\n",
       "        [ 21.,  38.],\n",
       "        [104., 118.],\n",
       "        [ 57.,  69.],\n",
       "        [ 82., 100.],\n",
       "        [118., 134.],\n",
       "        [ 20.,  38.],\n",
       "        [102., 120.]])"
      ]
     },
     "execution_count": 25,
     "metadata": {},
     "output_type": "execute_result"
    }
   ],
   "source": [
    "# Compare with targets\n",
    "targets"
   ]
  },
  {
   "cell_type": "code",
   "execution_count": 26,
   "id": "74a04730",
   "metadata": {},
   "outputs": [
    {
     "data": {
      "text/plain": [
       "tensor([[53.4365, 67.5005]], grad_fn=<AddmmBackward0>)"
      ]
     },
     "execution_count": 26,
     "metadata": {},
     "output_type": "execute_result"
    }
   ],
   "source": [
    "model(torch.tensor([[75, 63, 44.]]))"
   ]
  },
  {
   "cell_type": "code",
   "execution_count": null,
   "id": "d21ecaca",
   "metadata": {},
   "outputs": [],
   "source": []
  }
 ],
 "metadata": {
  "kernelspec": {
   "display_name": "Python 3 (ipykernel)",
   "language": "python",
   "name": "python3"
  },
  "language_info": {
   "codemirror_mode": {
    "name": "ipython",
    "version": 3
   },
   "file_extension": ".py",
   "mimetype": "text/x-python",
   "name": "python",
   "nbconvert_exporter": "python",
   "pygments_lexer": "ipython3",
   "version": "3.9.0"
  }
 },
 "nbformat": 4,
 "nbformat_minor": 5
}
